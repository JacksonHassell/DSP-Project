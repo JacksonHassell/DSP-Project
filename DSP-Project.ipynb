{
 "cells": [
  {
   "cell_type": "code",
   "execution_count": 1,
   "metadata": {},
   "outputs": [],
   "source": [
    "import pandas as pd\n",
    "%config IPCompleter.greedy=True"
   ]
  },
  {
   "cell_type": "code",
   "execution_count": 2,
   "metadata": {},
   "outputs": [
    {
     "data": {
      "text/plain": [
       "<bound method NDFrame.head of       Index                   Title                    Artist  \\\n",
       "0         1                 Sunrise               Norah Jones   \n",
       "1         2             Black Night               Deep Purple   \n",
       "2         3          Clint Eastwood                  Gorillaz   \n",
       "3         4           The Pretender              Foo Fighters   \n",
       "4         5  Waitin' On A Sunny Day         Bruce Springsteen   \n",
       "...     ...                     ...                       ...   \n",
       "1989   1990        Heartbreak Hotel             Elvis Presley   \n",
       "1990   1991               Hound Dog             Elvis Presley   \n",
       "1991   1992         Johnny B. Goode               Chuck Berry   \n",
       "1992   1993               Take Five  The Dave Brubeck Quartet   \n",
       "1993   1994          Blueberry Hill               Fats Domino   \n",
       "\n",
       "                Top Genre  Year  Beats Per Minute (BPM)  Energy  Danceability  \\\n",
       "0         adult standards  2004                     157      30            53   \n",
       "1              album rock  2000                     135      79            50   \n",
       "2     alternative hip hop  2001                     168      69            66   \n",
       "3       alternative metal  2007                     173      96            43   \n",
       "4            classic rock  2002                     106      82            58   \n",
       "...                   ...   ...                     ...     ...           ...   \n",
       "1989      adult standards  1958                      94      21            70   \n",
       "1990      adult standards  1958                     175      76            36   \n",
       "1991           blues rock  1959                     168      80            53   \n",
       "1992                bebop  1959                     174      26            45   \n",
       "1993      adult standards  1959                     133      50            49   \n",
       "\n",
       "      Loudness (dB)  Liveness  Valence  Length (Duration)  Acousticness  \\\n",
       "0               -14        11       68                201            94   \n",
       "1               -11        17       81                207            17   \n",
       "2                -9         7       52                341             2   \n",
       "3                -4         3       37                269             0   \n",
       "4                -5        10       87                256             1   \n",
       "...             ...       ...      ...                ...           ...   \n",
       "1989            -12        11       72                128            84   \n",
       "1990             -8        76       95                136            73   \n",
       "1991             -9        31       97                162            74   \n",
       "1992            -13         7       60                324            54   \n",
       "1993            -10        16       83                148            74   \n",
       "\n",
       "      Speechiness  Popularity  \n",
       "0               3          71  \n",
       "1               7          39  \n",
       "2              17          69  \n",
       "3               4          76  \n",
       "4               3          59  \n",
       "...           ...         ...  \n",
       "1989            7          63  \n",
       "1990            6          69  \n",
       "1991            7          74  \n",
       "1992            4          65  \n",
       "1993            3          56  \n",
       "\n",
       "[1994 rows x 15 columns]>"
      ]
     },
     "execution_count": 2,
     "metadata": {},
     "output_type": "execute_result"
    }
   ],
   "source": [
    "df = pd.read_csv('./Spotify-2000.csv', thousands=',')\n",
    "df.head"
   ]
  },
  {
   "cell_type": "code",
   "execution_count": 3,
   "metadata": {},
   "outputs": [
    {
     "name": "stdout",
     "output_type": "stream",
     "text": [
      "731\n"
     ]
    }
   ],
   "source": [
    "print(len(df['Artist'].value_counts()))"
   ]
  },
  {
   "cell_type": "code",
   "execution_count": 4,
   "metadata": {},
   "outputs": [
    {
     "data": {
      "text/plain": [
       "<bound method NDFrame.head of                 Top Genre  Year  Beats Per Minute (BPM)  Energy  Danceability  \\\n",
       "0         adult standards  2004                     157      30            53   \n",
       "1              album rock  2000                     135      79            50   \n",
       "2     alternative hip hop  2001                     168      69            66   \n",
       "3       alternative metal  2007                     173      96            43   \n",
       "4            classic rock  2002                     106      82            58   \n",
       "...                   ...   ...                     ...     ...           ...   \n",
       "1989      adult standards  1958                      94      21            70   \n",
       "1990      adult standards  1958                     175      76            36   \n",
       "1991           blues rock  1959                     168      80            53   \n",
       "1992                bebop  1959                     174      26            45   \n",
       "1993      adult standards  1959                     133      50            49   \n",
       "\n",
       "      Loudness (dB)  Liveness  Valence  Length (Duration)  Acousticness  \\\n",
       "0               -14        11       68                201            94   \n",
       "1               -11        17       81                207            17   \n",
       "2                -9         7       52                341             2   \n",
       "3                -4         3       37                269             0   \n",
       "4                -5        10       87                256             1   \n",
       "...             ...       ...      ...                ...           ...   \n",
       "1989            -12        11       72                128            84   \n",
       "1990             -8        76       95                136            73   \n",
       "1991             -9        31       97                162            74   \n",
       "1992            -13         7       60                324            54   \n",
       "1993            -10        16       83                148            74   \n",
       "\n",
       "      Speechiness  Popularity  \n",
       "0               3          71  \n",
       "1               7          39  \n",
       "2              17          69  \n",
       "3               4          76  \n",
       "4               3          59  \n",
       "...           ...         ...  \n",
       "1989            7          63  \n",
       "1990            6          69  \n",
       "1991            7          74  \n",
       "1992            4          65  \n",
       "1993            3          56  \n",
       "\n",
       "[1994 rows x 12 columns]>"
      ]
     },
     "execution_count": 4,
     "metadata": {},
     "output_type": "execute_result"
    }
   ],
   "source": [
    "#Drop Index because we don't need two indices. \n",
    "#Drop title because each title is different and it adds no information.\n",
    "#Drop artist because there are 700 different artists and one-hot-encoding each one will add a bunch of noise to our models\n",
    "#Drop year because that probably doesn't affect genre and I have no idea how to encode it\n",
    "df.drop(['Index', 'Title', 'Artist', 'Year'], axis=1, inplace=True)\n",
    "df.head"
   ]
  },
  {
   "cell_type": "code",
   "execution_count": 7,
   "metadata": {},
   "outputs": [
    {
     "data": {
      "text/plain": [
       "<bound method NDFrame.head of                 Top Genre  Year  Beats Per Minute (BPM)    Energy  \\\n",
       "0         adult standards  2004                0.710059  0.278351   \n",
       "1              album rock  2000                0.579882  0.783505   \n",
       "2     alternative hip hop  2001                0.775148  0.680412   \n",
       "3       alternative metal  2007                0.804734  0.958763   \n",
       "4            classic rock  2002                0.408284  0.814433   \n",
       "...                   ...   ...                     ...       ...   \n",
       "1989      adult standards  1958                0.337278  0.185567   \n",
       "1990      adult standards  1958                0.816568  0.752577   \n",
       "1991           blues rock  1959                0.775148  0.793814   \n",
       "1992                bebop  1959                0.810651  0.237113   \n",
       "1993      adult standards  1959                0.568047  0.484536   \n",
       "\n",
       "      Danceability  Loudness (dB)  Liveness   Valence  Length (Duration)  \\\n",
       "0         0.500000           0.52  0.092784  0.677083           0.081880   \n",
       "1         0.465116           0.64  0.154639  0.812500           0.086429   \n",
       "2         0.651163           0.72  0.051546  0.510417           0.188021   \n",
       "3         0.383721           0.92  0.010309  0.354167           0.133434   \n",
       "4         0.558140           0.88  0.082474  0.875000           0.123578   \n",
       "...            ...            ...       ...       ...                ...   \n",
       "1989      0.697674           0.60  0.092784  0.718750           0.026535   \n",
       "1990      0.302326           0.76  0.762887  0.958333           0.032600   \n",
       "1991      0.500000           0.72  0.298969  0.979167           0.052312   \n",
       "1992      0.406977           0.56  0.051546  0.593750           0.175133   \n",
       "1993      0.453488           0.68  0.144330  0.833333           0.041698   \n",
       "\n",
       "      Acousticness  Speechiness  Popularity  \n",
       "0         0.949495     0.018868    0.674157  \n",
       "1         0.171717     0.094340    0.314607  \n",
       "2         0.020202     0.283019    0.651685  \n",
       "3         0.000000     0.037736    0.730337  \n",
       "4         0.010101     0.018868    0.539326  \n",
       "...            ...          ...         ...  \n",
       "1989      0.848485     0.094340    0.584270  \n",
       "1990      0.737374     0.075472    0.651685  \n",
       "1991      0.747475     0.094340    0.707865  \n",
       "1992      0.545455     0.037736    0.606742  \n",
       "1993      0.747475     0.018868    0.505618  \n",
       "\n",
       "[1994 rows x 12 columns]>"
      ]
     },
     "execution_count": 7,
     "metadata": {},
     "output_type": "execute_result"
    }
   ],
   "source": [
    "# Standardize numerical values\n",
    "def standardize_column(column):\n",
    "  return (column-column.min())/(column.max()-column.min())\n",
    "\n",
    "columns_to_standardize = ['Beats Per Minute (BPM)', 'Energy', 'Danceability', 'Loudness (dB)', 'Liveness', 'Valence', 'Length (Duration)', 'Acousticness', 'Speechiness', 'Popularity']\n",
    "for col in columns_to_standardize:\n",
    "  df[col] = standardize_column(df[col])\n",
    "\n",
    "df.head"
   ]
  },
  {
   "cell_type": "code",
   "execution_count": null,
   "metadata": {},
   "outputs": [],
   "source": []
  },
  {
   "cell_type": "code",
   "execution_count": null,
   "metadata": {},
   "outputs": [],
   "source": []
  }
 ],
 "metadata": {
  "kernelspec": {
   "display_name": "Python 3",
   "language": "python",
   "name": "python3"
  },
  "language_info": {
   "codemirror_mode": {
    "name": "ipython",
    "version": 3
   },
   "file_extension": ".py",
   "mimetype": "text/x-python",
   "name": "python",
   "nbconvert_exporter": "python",
   "pygments_lexer": "ipython3",
   "version": "3.6.9"
  }
 },
 "nbformat": 4,
 "nbformat_minor": 2
}
